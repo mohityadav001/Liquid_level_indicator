{
 "cells": [
  {
   "cell_type": "code",
   "execution_count": 12,
   "metadata": {},
   "outputs": [],
   "source": [
    "from opcua import Client\n",
    "import base64\n",
    "from IPython.display import Image"
   ]
  },
  {
   "cell_type": "code",
   "execution_count": 13,
   "id": "3d1190a9",
   "metadata": {},
   "outputs": [],
   "source": [
    "url = \"your server url\"\n",
    "client = Client(url)\n",
    "client.connect()"
   ]
  },
  {
   "cell_type": "code",
   "execution_count": 14,
   "id": "6a69d870",
   "metadata": {},
   "outputs": [],
   "source": [
    "# specify the OPC UA node for the image data\n",
    "node = client.get_node(\"ns=3;s=1007\")"
   ]
  },
  {
   "cell_type": "code",
   "execution_count": 15,
   "id": "fe8ab344",
   "metadata": {},
   "outputs": [],
   "source": [
    "# get the value of the OPC UA node\n",
    "value = node.get_value()\n",
    "\n",
    "# convert the base64 string to image data\n",
    "image_data = base64.b64decode(value)"
   ]
  },
  {
   "cell_type": "code",
   "execution_count": null,
   "id": "3517fc93",
   "metadata": {},
   "outputs": [],
   "source": [
    "# display the image in Jupyter Notebook\n",
    "with open(\"image_data.png\", \"wb\") as f:\n",
    "    f.write(image_data) #will save the generated image\n",
    "    \n",
    "Image(data=image_data)"
   ]
  },
  {
   "cell_type": "code",
   "execution_count": null,
   "id": "f65310a7",
   "metadata": {},
   "outputs": [],
   "source": []
  }
 ],
 "metadata": {
  "kernelspec": {
   "display_name": "Python 3",
   "language": "python",
   "name": "python3"
  },
  "language_info": {
   "codemirror_mode": {
    "name": "ipython",
    "version": 3
   },
   "file_extension": ".py",
   "mimetype": "text/x-python",
   "name": "python",
   "nbconvert_exporter": "python",
   "pygments_lexer": "ipython3",
   "version": "3.9.6"
  }
 },
 "nbformat": 4,
 "nbformat_minor": 5
}
